{
 "cells": [
  {
   "cell_type": "code",
   "execution_count": 16,
   "metadata": {},
   "outputs": [],
   "source": [
    "import csv\n",
    "import cv2\n",
    "import numpy as np"
   ]
  },
  {
   "cell_type": "code",
   "execution_count": 11,
   "metadata": {},
   "outputs": [],
   "source": [
    "\"\"\"Extract data from the .csv file\"\"\"\n",
    "lines = []\n",
    "with open('./data/driving_log.csv') as file:\n",
    "    reader = csv.reader(file)\n",
    "    for line in reader:\n",
    "        lines.append(line)\n",
    " # images and mearsurments will be our input_X and input_y\n",
    "images = []\n",
    "mearsurements = []\n",
    "for i in range(len(lines)):\n",
    "    if i == 0:\n",
    "        continue\n",
    "    line = lines[i]\n",
    "    source_path = line[0]\n",
    "    filename = source_path.split('/')[-1]\n",
    "    current_path = './data/IMG/' + filename\n",
    "    image = cv2.imread(current_path)\n",
    "    images.append(image)\n",
    "    mearsurement = float(line[3])\n",
    "    mearsurements.append(mearsurement)"
   ]
  },
  {
   "cell_type": "code",
   "execution_count": 17,
   "metadata": {},
   "outputs": [],
   "source": [
    "\"\"\"Set X_train and y_train\"\"\"\n",
    "X_train = np.array(images)\n",
    "y_train = np.array(mearsurements)"
   ]
  },
  {
   "cell_type": "code",
   "execution_count": 22,
   "metadata": {},
   "outputs": [
    {
     "name": "stdout",
     "output_type": "stream",
     "text": [
      "Train on 6428 samples, validate on 1608 samples\n",
      "Epoch 1/6\n",
      " 224/6428 [>.............................] - ETA: 3s - loss: 74968988.3369"
     ]
    },
    {
     "name": "stderr",
     "output_type": "stream",
     "text": [
      "/home/nqiao/anaconda3/lib/python3.6/site-packages/keras/models.py:944: UserWarning: The `nb_epoch` argument in `fit` has been renamed `epochs`.\n",
      "  warnings.warn('The `nb_epoch` argument in `fit` '\n"
     ]
    },
    {
     "name": "stdout",
     "output_type": "stream",
     "text": [
      "6428/6428 [==============================] - 2s 275us/step - loss: 5034098.1359 - val_loss: 4497.8690\n",
      "Epoch 2/6\n",
      "6428/6428 [==============================] - 2s 277us/step - loss: 3426.6828 - val_loss: 2630.9384\n",
      "Epoch 3/6\n",
      "6428/6428 [==============================] - 2s 277us/step - loss: 2753.1253 - val_loss: 2527.7907\n",
      "Epoch 4/6\n",
      "6428/6428 [==============================] - 2s 284us/step - loss: 2280.5834 - val_loss: 2439.1238\n",
      "Epoch 5/6\n",
      "6428/6428 [==============================] - 2s 279us/step - loss: 2594.5006 - val_loss: 2665.7679\n",
      "Epoch 6/6\n",
      "6428/6428 [==============================] - 2s 263us/step - loss: 2325.8360 - val_loss: 1912.3570\n"
     ]
    }
   ],
   "source": [
    "\"\"\"Build a simple regression model\"\"\"\n",
    "from keras.models import Sequential\n",
    "from keras.layers import Flatten, Dense\n",
    "\n",
    "model = Sequential()\n",
    "model.add(Flatten(input_shape=(160,320,3)))\n",
    "# output regression layer\n",
    "model.add(Dense(1))\n",
    "\n",
    "model.compile(loss='mse', optimizer='adam')\n",
    "model.fit(X_train, y_train, validation_split=0.2, shuffle=True, nb_epoch=6)\n",
    "\n",
    "model.save(\"./models/model.h5\")"
   ]
  },
  {
   "cell_type": "code",
   "execution_count": null,
   "metadata": {
    "collapsed": true
   },
   "outputs": [],
   "source": []
  }
 ],
 "metadata": {
  "kernelspec": {
   "display_name": "Python 3",
   "language": "python",
   "name": "python3"
  },
  "language_info": {
   "codemirror_mode": {
    "name": "ipython",
    "version": 3
   },
   "file_extension": ".py",
   "mimetype": "text/x-python",
   "name": "python",
   "nbconvert_exporter": "python",
   "pygments_lexer": "ipython3",
   "version": "3.6.3"
  }
 },
 "nbformat": 4,
 "nbformat_minor": 2
}
