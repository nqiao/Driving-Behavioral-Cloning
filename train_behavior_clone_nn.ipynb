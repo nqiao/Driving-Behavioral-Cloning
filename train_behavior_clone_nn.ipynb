{
 "cells": [
  {
   "cell_type": "code",
   "execution_count": 3,
   "metadata": {
    "collapsed": true
   },
   "outputs": [],
   "source": [
    "import csv\n",
    "import cv2\n",
    "import numpy as np"
   ]
  },
  {
   "cell_type": "code",
   "execution_count": 9,
   "metadata": {},
   "outputs": [],
   "source": [
    "\"\"\"Extract data from the .csv file\"\"\"\n",
    "lines = []\n",
    "with open('./data/driving_log.csv') as file:\n",
    "    reader = csv.reader(file)\n",
    "    for line in reader:\n",
    "        lines.append(line)\n",
    "# images and mearsurments will be our input_X and input_y\n",
    "# Augment training set by flip the image horizonaly and flip the sign of mearsurment.\n",
    "augmented_images = []\n",
    "augmented_mearsurements = []\n",
    "for i in range(len(lines)):\n",
    "    if i == 0:\n",
    "        continue\n",
    "    line = lines[i]\n",
    "    for j in range(3):\n",
    "        # source path could be center(0)/left(1)/right(2)\n",
    "        source_path = line[j]\n",
    "        filename = source_path.split('/')[-1]\n",
    "        current_path = './data/IMG/' + filename\n",
    "        image = cv2.imread(current_path)\n",
    "        augmented_images.append(image)\n",
    "        augmented_images.append(cv2.flip(image, 1))\n",
    "        if j == 0:\n",
    "            mearsurement = float(line[3])\n",
    "        elif j == 1:\n",
    "            mearsurement = float(line[3]) + 0.2\n",
    "        elif j == 2:\n",
    "            mearsurement = float(line[3]) - 0.2\n",
    "        augmented_mearsurements.append(mearsurement)\n",
    "        augmented_mearsurements.append(mearsurement * -1.0)\n",
    "\n",
    "\n",
    "# for i in range(len(lines)):\n",
    "#     if i == 0:\n",
    "#         continue\n",
    "#     line = lines[i]\n",
    "#     source_path = line[0]\n",
    "#     filename = source_path.split('/')[-1]\n",
    "#     current_path = './data/IMG/' + filename\n",
    "#     image = cv2.imread(current_path)\n",
    "#     augmented_images.append(image)\n",
    "#     augmented_images.append(cv2.flip(image, 1))\n",
    "#     mearsurement = float(line[3])\n",
    "#     augmented_mearsurements.append(mearsurement)\n",
    "#     augmented_mearsurements.append(mearsurement * -1.0)"
   ]
  },
  {
   "cell_type": "code",
   "execution_count": 10,
   "metadata": {},
   "outputs": [
    {
     "name": "stdout",
     "output_type": "stream",
     "text": [
      "(48216, 160, 320, 3) (48216,)\n"
     ]
    }
   ],
   "source": [
    "\"\"\"Set X_train and y_train\"\"\"\n",
    "X_train = np.array(augmented_images)\n",
    "y_train = np.array(augmented_mearsurements)\n",
    "print(X_train.shape, y_train.shape)"
   ]
  },
  {
   "cell_type": "code",
   "execution_count": 11,
   "metadata": {},
   "outputs": [
    {
     "name": "stdout",
     "output_type": "stream",
     "text": [
      "[ 0.  -0.   0.2 -0.2 -0.2  0.2  0.  -0.   0.2 -0.2 -0.2  0.2]\n"
     ]
    }
   ],
   "source": [
    "print(y_train[0:12])"
   ]
  },
  {
   "cell_type": "code",
   "execution_count": 15,
   "metadata": {},
   "outputs": [
    {
     "name": "stderr",
     "output_type": "stream",
     "text": [
      "/home/nqiao/anaconda3/lib/python3.6/site-packages/ipykernel_launcher.py:12: UserWarning: Update your `Conv2D` call to the Keras 2 API: `Conv2D(24, (5, 5), activation=\"relu\", strides=(2, 2))`\n",
      "  if sys.path[0] == '':\n",
      "/home/nqiao/anaconda3/lib/python3.6/site-packages/ipykernel_launcher.py:14: UserWarning: Update your `Conv2D` call to the Keras 2 API: `Conv2D(36, (5, 5), activation=\"relu\", strides=(2, 2))`\n",
      "  \n",
      "/home/nqiao/anaconda3/lib/python3.6/site-packages/ipykernel_launcher.py:16: UserWarning: Update your `Conv2D` call to the Keras 2 API: `Conv2D(48, (5, 5), activation=\"relu\", strides=(2, 2))`\n",
      "  app.launch_new_instance()\n",
      "/home/nqiao/anaconda3/lib/python3.6/site-packages/ipykernel_launcher.py:18: UserWarning: Update your `Conv2D` call to the Keras 2 API: `Conv2D(64, (3, 3), activation=\"relu\")`\n",
      "/home/nqiao/anaconda3/lib/python3.6/site-packages/ipykernel_launcher.py:19: UserWarning: Update your `Conv2D` call to the Keras 2 API: `Conv2D(64, (3, 3), activation=\"relu\")`\n"
     ]
    }
   ],
   "source": [
    "\"\"\"Build a simple regression model\"\"\"\n",
    "from keras.models import Sequential\n",
    "from keras.layers import Flatten, Dense, Lambda, Convolution2D, MaxPooling2D, Cropping2D\n",
    "from keras import backend as K\n",
    "from keras.callbacks import EarlyStopping, TensorBoard  \n",
    "\n",
    "\n",
    "model = Sequential()\n",
    "model.add(Lambda(lambda x: x / 255.0 - 0.5, input_shape=(160,320,3)))\n",
    "# crop 70 rows of pixels on the top and 25 rows of pixels on the bottom.\n",
    "model.add(Cropping2D(cropping=((70, 25), (0, 0))))\n",
    "model.add(Convolution2D(24, 5, 5, subsample=(2,2),activation='relu'))     # subsample: stride\n",
    "# model.add(MaxPooling2D())\n",
    "model.add(Convolution2D(36, 5, 5, subsample=(2,2),activation='relu'))\n",
    "# model.add(MaxPooling2D())\n",
    "model.add(Convolution2D(48, 5, 5, subsample=(2,2),activation='relu'))\n",
    "# model.add(MaxPooling2D())\n",
    "model.add(Convolution2D(64, 3, 3, activation='relu'))\n",
    "model.add(Convolution2D(64, 3, 3, activation='relu'))\n",
    "model.add(Flatten())\n",
    "model.add(Dense(100))\n",
    "model.add(Dense(50))\n",
    "# output regression layer\n",
    "model.add(Dense(10))\n",
    "model.add(Dense(1))\n",
    "\n",
    "model.compile(loss='mse', optimizer='adam')\n"
   ]
  },
  {
   "cell_type": "code",
   "execution_count": 17,
   "metadata": {},
   "outputs": [
    {
     "name": "stdout",
     "output_type": "stream",
     "text": [
      "Train on 38572 samples, validate on 9644 samples\n",
      "Epoch 1/10\n",
      "38572/38572 [==============================] - 23s 601us/step - loss: 0.0114 - val_loss: 0.0190\n",
      "Epoch 2/10\n",
      "38572/38572 [==============================] - 23s 603us/step - loss: 0.0107 - val_loss: 0.0185\n",
      "Epoch 3/10\n",
      "38572/38572 [==============================] - 23s 606us/step - loss: 0.0099 - val_loss: 0.0188\n"
     ]
    }
   ],
   "source": [
    "callbacks = [EarlyStopping(monitor='val_loss', patience=0, verbose=0, mode='auto')]\n",
    "\n",
    "model.fit(X_train, y_train, \n",
    "          validation_split=0.2, \n",
    "          shuffle=True, \n",
    "          batch_size=128,\n",
    "          epochs=10,\n",
    "          callbacks=callbacks)\n",
    "\n",
    "\n",
    "\n",
    "model.save(\"./models/model_aug_3_2e.h5\")\n",
    "\n"
   ]
  },
  {
   "cell_type": "code",
   "execution_count": 7,
   "metadata": {
    "collapsed": true
   },
   "outputs": [],
   "source": [
    "K.clear_session()"
   ]
  },
  {
   "cell_type": "code",
   "execution_count": null,
   "metadata": {
    "collapsed": true
   },
   "outputs": [],
   "source": []
  }
 ],
 "metadata": {
  "kernelspec": {
   "display_name": "Python 3",
   "language": "python",
   "name": "python3"
  },
  "language_info": {
   "codemirror_mode": {
    "name": "ipython",
    "version": 3
   },
   "file_extension": ".py",
   "mimetype": "text/x-python",
   "name": "python",
   "nbconvert_exporter": "python",
   "pygments_lexer": "ipython3",
   "version": "3.6.2"
  }
 },
 "nbformat": 4,
 "nbformat_minor": 2
}
